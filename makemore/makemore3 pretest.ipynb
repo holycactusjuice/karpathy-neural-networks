{
 "cells": [
  {
   "cell_type": "code",
   "execution_count": 2,
   "id": "4f6b01c2-d1f5-4c92-ba5f-d2393e21768c",
   "metadata": {},
   "outputs": [],
   "source": [
    "import torch\n",
    "import torch.nn.functional as F\n",
    "import matplotlib.pyplot as plt\n",
    "%matplotlib inline"
   ]
  },
  {
   "cell_type": "code",
   "execution_count": null,
   "id": "533f5feb-1388-468d-9b0e-837486d06a02",
   "metadata": {},
   "outputs": [],
   "source": [
    "# ---------------- CREATE DATASET ----------------"
   ]
  },
  {
   "cell_type": "code",
   "execution_count": 4,
   "id": "ab3433a4-24ab-4ed1-8560-738ac03cc657",
   "metadata": {},
   "outputs": [],
   "source": [
    "# constants\n",
    "block_size = 3"
   ]
  },
  {
   "cell_type": "code",
   "execution_count": 3,
   "id": "3e02e3ca-4592-4da4-9907-bb635d5ca5c7",
   "metadata": {},
   "outputs": [
    {
     "data": {
      "text/plain": [
       "['emma', 'olivia', 'ava', 'isabella', 'sophia']"
      ]
     },
     "execution_count": 3,
     "metadata": {},
     "output_type": "execute_result"
    }
   ],
   "source": [
    "# get words\n",
    "words = open('names.txt', 'r').read().splitlines()\n",
    "words[:5]"
   ]
  },
  {
   "cell_type": "code",
   "execution_count": 10,
   "id": "b7574858-36b9-43a8-bd55-9973a8d6340f",
   "metadata": {},
   "outputs": [],
   "source": [
    "# create LUTs\n",
    "chars = sorted(list(set(''.join(words))))\n",
    "stoi = {s:i+1 for i,s in enumerate(chars)}\n",
    "stoi['.'] = 0\n",
    "itos = {i:s for s,i in stoi.items()}"
   ]
  },
  {
   "cell_type": "code",
   "execution_count": 18,
   "id": "78291552-f958-49c4-9259-bef5f20c49bd",
   "metadata": {},
   "outputs": [],
   "source": [
    "# build dataset\n",
    "def build_dataset(words):\n",
    "    \n",
    "    X, Y = [], []\n",
    "\n",
    "    for w in words:\n",
    "\n",
    "        # starting context is all 0s\n",
    "        context = [0] * block_size\n",
    "\n",
    "        # add end char and iterate through word\n",
    "        for ch in w + '.':\n",
    "            \n",
    "            # convert char to index\n",
    "            ix = stoi[ch]\n",
    "\n",
    "            # update dataset\n",
    "            X.append(context)\n",
    "            Y.append(ix)\n",
    "\n",
    "            # shift context\n",
    "            context = context[1:] + [ix]\n",
    "\n",
    "    X = torch.tensor(X)\n",
    "    Y = torch.tensor(Y)\n",
    "    print(X.shape, Y.shape)\n",
    "    return X, Y"
   ]
  },
  {
   "cell_type": "code",
   "execution_count": 34,
   "id": "4b94b0bd-066a-4f5f-b6f7-bfb01b41d6ed",
   "metadata": {},
   "outputs": [
    {
     "name": "stdout",
     "output_type": "stream",
     "text": [
      "torch.Size([182771, 3]) torch.Size([182771])\n",
      "torch.Size([22711, 3]) torch.Size([22711])\n",
      "torch.Size([22664, 3]) torch.Size([22664])\n"
     ]
    }
   ],
   "source": [
    "# create splits\n",
    "import random\n",
    "random.seed(42)\n",
    "random.shuffle(words)\n",
    "\n",
    "n1 = int(0.8 * len(words))\n",
    "n2 = int(0.9 * len(words))\n",
    "\n",
    "Xtr, Ytr = build_dataset(words[:n1])\n",
    "Xdev, Ydev = build_dataset(words[n1:n2])\n",
    "Xtest, Ytest = build_dataset(words[n2:])"
   ]
  },
  {
   "cell_type": "code",
   "execution_count": 25,
   "id": "952befb3-31b4-44f6-a14c-3afb1c133395",
   "metadata": {},
   "outputs": [],
   "source": [
    "# ---------------- IMPLEMENT MLP ----------------"
   ]
  },
  {
   "cell_type": "code",
   "execution_count": 36,
   "id": "9d26f8d2-322c-4d91-b56c-718ce9632578",
   "metadata": {},
   "outputs": [],
   "source": [
    "vocab_size = 27\n",
    "n_embd = 10\n",
    "n_hidden = 200"
   ]
  },
  {
   "cell_type": "code",
   "execution_count": 38,
   "id": "afab390c-e252-41bf-b82d-a28b026f171a",
   "metadata": {},
   "outputs": [],
   "source": [
    "g = torch.Generator().manual_seed(2147483647)\n",
    "# char embedding vectors\n",
    "C = torch.randn((vocab_size, n_embd),             generator=g)\n",
    "\n",
    "# weights and biases\n",
    "W1 = torch.randn((block_size * n_embd, n_hidden), generator=g)\n",
    "b1 = torch.randn(n_hidden,                        generator=g)\n",
    "W2 = torch.randn((n_hidden, vocab_size),         generator=g)\n",
    "b2 = torch.randn(vocab_size,                      generator=g)\n",
    "\n",
    "parameters = [C, W1, b1, W2, b2]\n",
    "for p in parameters:\n",
    "    p.requires_grad = True"
   ]
  },
  {
   "cell_type": "code",
   "execution_count": 40,
   "id": "9814ee9a-fb38-4fe3-ba1a-af61413be87e",
   "metadata": {},
   "outputs": [
    {
     "name": "stdout",
     "output_type": "stream",
     "text": [
      "tensor(25.4327, grad_fn=<NllLossBackward0>)\n",
      "tensor(2.6777, grad_fn=<NllLossBackward0>)\n",
      "tensor(2.5408, grad_fn=<NllLossBackward0>)\n",
      "tensor(2.3156, grad_fn=<NllLossBackward0>)\n",
      "tensor(2.1878, grad_fn=<NllLossBackward0>)\n",
      "tensor(2.3344, grad_fn=<NllLossBackward0>)\n",
      "tensor(2.4377, grad_fn=<NllLossBackward0>)\n",
      "tensor(2.4165, grad_fn=<NllLossBackward0>)\n",
      "tensor(2.1740, grad_fn=<NllLossBackward0>)\n",
      "tensor(2.0551, grad_fn=<NllLossBackward0>)\n",
      "tensor(2.3760, grad_fn=<NllLossBackward0>)\n",
      "tensor(2.1351, grad_fn=<NllLossBackward0>)\n",
      "tensor(2.4657, grad_fn=<NllLossBackward0>)\n",
      "tensor(2.0169, grad_fn=<NllLossBackward0>)\n",
      "tensor(1.9586, grad_fn=<NllLossBackward0>)\n",
      "tensor(2.4092, grad_fn=<NllLossBackward0>)\n",
      "tensor(2.1924, grad_fn=<NllLossBackward0>)\n",
      "tensor(2.0844, grad_fn=<NllLossBackward0>)\n",
      "tensor(2.3244, grad_fn=<NllLossBackward0>)\n",
      "tensor(2.3881, grad_fn=<NllLossBackward0>)\n"
     ]
    }
   ],
   "source": [
    "g = torch.Generator().manual_seed(2147483647)\n",
    "# train\n",
    "batch_size = 32\n",
    "max_steps = 200000\n",
    "\n",
    "for i in range(max_steps):\n",
    "\n",
    "    # minibatch construct\n",
    "    ix = torch.randint(0, Xtr.shape[0], (batch_size,), generator=g)\n",
    "    Xb, Yb = Xtr[ix], Ytr[ix]\n",
    "\n",
    "    # forward pass\n",
    "    emb = C[Xb]\n",
    "    h = torch.tanh(emb.view(emb.shape[0], -1) @ W1 + b1)\n",
    "    logits = h @ W2 + b2\n",
    "    loss = F.cross_entropy(logits, Yb)\n",
    "\n",
    "    if i % 10000 == 0:\n",
    "        print(loss)\n",
    "\n",
    "    # backward pass\n",
    "    for p in parameters:\n",
    "        p.grad = None\n",
    "    loss.backward()\n",
    "\n",
    "    # update\n",
    "    lr = 0.1 if i < 100000 else 0.01\n",
    "    for p in parameters:\n",
    "        p.data += -lr * p.grad"
   ]
  },
  {
   "cell_type": "code",
   "execution_count": null,
   "id": "45163fed-b0fa-471b-8f2b-985c1663ec7d",
   "metadata": {},
   "outputs": [],
   "source": [
    "# ---------------- SAMPLE FROM MLP ----------------"
   ]
  },
  {
   "cell_type": "code",
   "execution_count": 44,
   "id": "38facf9f-7308-4bcc-81e6-336c68f240fa",
   "metadata": {},
   "outputs": [
    {
     "name": "stdout",
     "output_type": "stream",
     "text": [
      "rilynn.\n",
      "kna.\n",
      "marisleei.\n",
      "sylanya.\n",
      "sah.\n",
      "nerahiod.\n",
      "beviydtauguna.\n",
      "jmaja.\n",
      "skylori.\n",
      "card.\n"
     ]
    }
   ],
   "source": [
    "for _ in range(10):\n",
    "\n",
    "    out = []\n",
    "    context = [0] * block_size\n",
    "\n",
    "    while True:\n",
    "        emb = C[torch.tensor(context)]\n",
    "        h = torch.tanh(emb.view(1, -1) @ W1 + b1)\n",
    "        logits = h @ W2 + b2\n",
    "        probs = F.softmax(logits, dim=1)\n",
    "        ix = torch.multinomial(probs, num_samples=1).item()\n",
    "\n",
    "        out.append(ix)\n",
    "\n",
    "        context = context[1:] + [ix]\n",
    "        if ix == 0:\n",
    "            break\n",
    "\n",
    "    print(''.join(itos[i] for i in out))"
   ]
  }
 ],
 "metadata": {
  "kernelspec": {
   "display_name": "Python 3 (ipykernel)",
   "language": "python",
   "name": "python3"
  },
  "language_info": {
   "codemirror_mode": {
    "name": "ipython",
    "version": 3
   },
   "file_extension": ".py",
   "mimetype": "text/x-python",
   "name": "python",
   "nbconvert_exporter": "python",
   "pygments_lexer": "ipython3",
   "version": "3.12.5"
  }
 },
 "nbformat": 4,
 "nbformat_minor": 5
}
