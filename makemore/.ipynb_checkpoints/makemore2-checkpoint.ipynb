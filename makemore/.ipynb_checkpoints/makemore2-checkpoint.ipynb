{
 "cells": [
  {
   "cell_type": "code",
   "execution_count": 459,
   "id": "0996321f-c365-4408-b5e8-16bf623dcf0e",
   "metadata": {},
   "outputs": [],
   "source": [
    "import torch\n",
    "import torch.nn.functional as F\n",
    "import matplotlib.pyplot as plt\n",
    "%matplotlib inline"
   ]
  },
  {
   "cell_type": "code",
   "execution_count": 460,
   "id": "42442b90-c8e1-4e5a-b1c5-0265471a2633",
   "metadata": {},
   "outputs": [
    {
     "data": {
      "text/plain": [
       "['emma', 'olivia', 'ava', 'isabella', 'sophia', 'charlotte', 'mia', 'amelia']"
      ]
     },
     "execution_count": 460,
     "metadata": {},
     "output_type": "execute_result"
    }
   ],
   "source": [
    "# read words\n",
    "words = open('names.txt', 'r').read().splitlines()\n",
    "words[:8]"
   ]
  },
  {
   "cell_type": "code",
   "execution_count": 461,
   "id": "4e70eafa-d14d-49d2-a0c9-7136a7d2e4d0",
   "metadata": {},
   "outputs": [
    {
     "data": {
      "text/plain": [
       "32033"
      ]
     },
     "execution_count": 461,
     "metadata": {},
     "output_type": "execute_result"
    }
   ],
   "source": [
    "len(words)"
   ]
  },
  {
   "cell_type": "code",
   "execution_count": 462,
   "id": "6077a0a0-27b4-4a84-916a-3eb24ec5b9f8",
   "metadata": {},
   "outputs": [
    {
     "name": "stdout",
     "output_type": "stream",
     "text": [
      "{1: 'a', 2: 'b', 3: 'c', 4: 'd', 5: 'e', 6: 'f', 7: 'g', 8: 'h', 9: 'i', 10: 'j', 11: 'k', 12: 'l', 13: 'm', 14: 'n', 15: 'o', 16: 'p', 17: 'q', 18: 'r', 19: 's', 20: 't', 21: 'u', 22: 'v', 23: 'w', 24: 'x', 25: 'y', 26: 'z', 0: '.'}\n"
     ]
    }
   ],
   "source": [
    "# build char/int mappings\n",
    "chars = sorted(list(set(''.join(words))))\n",
    "stoi = {s:i+1 for i, s in enumerate(chars)}\n",
    "stoi['.'] = 0\n",
    "itos = {i:s for s, i in stoi.items()}\n",
    "print(itos)"
   ]
  },
  {
   "cell_type": "code",
   "execution_count": 463,
   "id": "6c12d478-2c6e-46d8-8e5d-da261b571d8a",
   "metadata": {},
   "outputs": [],
   "source": [
    "# build dataset\n",
    "\n",
    "block_size = 3 # context length; how many chars do we take as input when predicting the next char?\n",
    "X, Y = [], []\n",
    "for w in words:\n",
    "\n",
    "    # print(w)\n",
    "    context = [0 for i in range(block_size)]\n",
    "    for ch in w + '.':\n",
    "        ix = stoi[ch]\n",
    "        X.append(context)\n",
    "        Y.append(ix)\n",
    "        # print(''.join(itos[i] for i in context), '--->', itos[ix])\n",
    "        context = context[1:] + [ix] # sliding window of size 3 along the word\n",
    "\n",
    "X = torch.tensor(X)\n",
    "Y = torch.tensor(Y)"
   ]
  },
  {
   "cell_type": "code",
   "execution_count": 464,
   "id": "ccdc5699-7c3a-4dcf-94ed-d35a4ff0e7d5",
   "metadata": {},
   "outputs": [
    {
     "data": {
      "text/plain": [
       "(torch.Size([228146, 3]), torch.int64, torch.Size([228146]), torch.int64)"
      ]
     },
     "execution_count": 464,
     "metadata": {},
     "output_type": "execute_result"
    }
   ],
   "source": [
    "X.shape, X.dtype, Y.shape, Y.dtype"
   ]
  },
  {
   "cell_type": "code",
   "execution_count": 465,
   "id": "6634d6bb-62e0-4aba-9a0f-f65a9eba2183",
   "metadata": {},
   "outputs": [],
   "source": [
    "# embeddings\n",
    "\n",
    "# each char will be represented by an embedding vector in some n-dimensional space\n",
    "# the \"location\" of each char and its distance/direction from other chars will kinda tell us what it is\n",
    "# we will start with a 2-dimensional embedding vector\n",
    "C = torch.randn((27, 2)) # 27 chars, 2D vector"
   ]
  },
  {
   "cell_type": "code",
   "execution_count": 466,
   "id": "59876433-9bce-4b75-90df-87328f3ce89c",
   "metadata": {},
   "outputs": [
    {
     "data": {
      "text/plain": [
       "tensor([-0.2639,  0.9414])"
      ]
     },
     "execution_count": 466,
     "metadata": {},
     "output_type": "execute_result"
    }
   ],
   "source": [
    "# embedding a single integer\n",
    "\n",
    "# we can just index\n",
    "C[5]\n",
    "\n",
    "# we can also use one-hot encoding and matrix multiplication!\n",
    "F.one_hot(torch.tensor(5), num_classes=27).float() @ C"
   ]
  },
  {
   "cell_type": "code",
   "execution_count": 467,
   "id": "99619f6c-303e-46db-baf9-3e252645f16d",
   "metadata": {},
   "outputs": [
    {
     "data": {
      "text/plain": [
       "torch.Size([228146, 3, 2])"
      ]
     },
     "execution_count": 467,
     "metadata": {},
     "output_type": "execute_result"
    }
   ],
   "source": [
    "emb = C[X]\n",
    "emb.shape\n",
    "# the shape is [32, 3, 2]\n",
    "# -> 32 data samples\n",
    "# -> 3 inputs (3 chars for context)\n",
    "# -> 2 embeddings per input"
   ]
  },
  {
   "cell_type": "code",
   "execution_count": 468,
   "id": "02b1d77f-6f8b-4077-8b82-ba0df8f140c2",
   "metadata": {},
   "outputs": [],
   "source": [
    "# embeddings are 2-dim, and we have 3, so 6 embeddings as input\n",
    "# number of neurons in second layer is up to us\n",
    "W1 = torch.randn((6, 100))\n",
    "b1 = torch.randn(100)"
   ]
  },
  {
   "cell_type": "code",
   "execution_count": 469,
   "id": "0d854762-4726-4467-8a10-0782dca181fd",
   "metadata": {},
   "outputs": [],
   "source": [
    "# we want to multiply emb @ W1 to get the weighted sum\n",
    "# currently can't multiply since dims don't match\n",
    "# idea: flatten emb from [32, 3, 2] to [32, 6]"
   ]
  },
  {
   "cell_type": "code",
   "execution_count": 470,
   "id": "d49b5bb0-901d-48ba-b104-71ee58237eb2",
   "metadata": {},
   "outputs": [
    {
     "data": {
      "text/plain": [
       "tensor([[ 0.2698,  0.3137],\n",
       "        [ 0.2698,  0.3137],\n",
       "        [ 0.2698,  0.3137],\n",
       "        ...,\n",
       "        [-0.8662,  1.2053],\n",
       "        [-0.8662,  1.2053],\n",
       "        [-0.4417,  0.2726]])"
      ]
     },
     "execution_count": 470,
     "metadata": {},
     "output_type": "execute_result"
    }
   ],
   "source": [
    "# we can grab all entries with dim1 = 0\n",
    "# this is equivalent to all the embeddings for the first char\n",
    "emb[:, 0, :]"
   ]
  },
  {
   "cell_type": "code",
   "execution_count": 471,
   "id": "82a7a25b-8deb-406a-b07f-cf94c55bf0fb",
   "metadata": {},
   "outputs": [
    {
     "data": {
      "text/plain": [
       "tensor([[ 0.2698,  0.3137,  0.2698,  0.3137,  0.2698,  0.3137],\n",
       "        [ 0.2698,  0.3137,  0.2698,  0.3137, -0.2639,  0.9414],\n",
       "        [ 0.2698,  0.3137, -0.2639,  0.9414,  0.3559,  1.4330],\n",
       "        ...,\n",
       "        [-0.8662,  1.2053, -0.8662,  1.2053, -0.4417,  0.2726],\n",
       "        [-0.8662,  1.2053, -0.4417,  0.2726, -0.8662,  1.2053],\n",
       "        [-0.4417,  0.2726, -0.8662,  1.2053, -1.4335, -0.1182]])"
      ]
     },
     "execution_count": 471,
     "metadata": {},
     "output_type": "execute_result"
    }
   ],
   "source": [
    "# we have 3 [32, 2] tensors and want to cat them into a single [32, 6] tensor\n",
    "# dim tells us which dimension should be EXTENDED in the concatenation\n",
    "torch.cat([emb[:, 0, :], emb[:, 1, :], emb[:, 2, :]], dim=1)"
   ]
  },
  {
   "cell_type": "code",
   "execution_count": 472,
   "id": "7d80ba3e-27b2-405f-8dbd-3f91d69b3d34",
   "metadata": {},
   "outputs": [
    {
     "data": {
      "text/plain": [
       "(tensor([[ 0.2698,  0.3137],\n",
       "         [ 0.2698,  0.3137],\n",
       "         [ 0.2698,  0.3137],\n",
       "         ...,\n",
       "         [-0.8662,  1.2053],\n",
       "         [-0.8662,  1.2053],\n",
       "         [-0.4417,  0.2726]]),\n",
       " tensor([[ 0.2698,  0.3137],\n",
       "         [ 0.2698,  0.3137],\n",
       "         [-0.2639,  0.9414],\n",
       "         ...,\n",
       "         [-0.8662,  1.2053],\n",
       "         [-0.4417,  0.2726],\n",
       "         [-0.8662,  1.2053]]),\n",
       " tensor([[ 0.2698,  0.3137],\n",
       "         [-0.2639,  0.9414],\n",
       "         [ 0.3559,  1.4330],\n",
       "         ...,\n",
       "         [-0.4417,  0.2726],\n",
       "         [-0.8662,  1.2053],\n",
       "         [-1.4335, -0.1182]]))"
      ]
     },
     "execution_count": 472,
     "metadata": {},
     "output_type": "execute_result"
    }
   ],
   "source": [
    "# we can use torch.unbind() to remove a dim from a tensor\n",
    "torch.unbind(emb, 1)\n",
    "# this is equivalent to [emb[:, 0, :], emb[:, 1, :], emb[:, 2, :]]"
   ]
  },
  {
   "cell_type": "code",
   "execution_count": 473,
   "id": "0f3a570d-04c8-4119-aabf-52c39ca99019",
   "metadata": {},
   "outputs": [
    {
     "data": {
      "text/plain": [
       "torch.Size([228146, 6])"
      ]
     },
     "execution_count": 473,
     "metadata": {},
     "output_type": "execute_result"
    }
   ],
   "source": [
    "# using cat and unbicnd together\n",
    "torch.cat(torch.unbind(emb, 1), 1).shape"
   ]
  },
  {
   "cell_type": "code",
   "execution_count": 474,
   "id": "aa13a000-d4df-4b9b-8e11-72ad96443c8c",
   "metadata": {},
   "outputs": [
    {
     "name": "stdout",
     "output_type": "stream",
     "text": [
      "tensor([[ 0,  1,  2,  3,  4,  5,  6,  7,  8],\n",
      "        [ 9, 10, 11, 12, 13, 14, 15, 16, 17]])\n",
      "tensor([[[ 0,  1,  2],\n",
      "         [ 3,  4,  5],\n",
      "         [ 6,  7,  8]],\n",
      "\n",
      "        [[ 9, 10, 11],\n",
      "         [12, 13, 14],\n",
      "         [15, 16, 17]]])\n",
      "tensor([[ 0,  1,  2,  3,  4,  5,  6,  7,  8],\n",
      "        [ 9, 10, 11, 12, 13, 14, 15, 16, 17]])\n"
     ]
    }
   ],
   "source": [
    "# THERE IS A BETTER WAY\n",
    "\n",
    "# let's take a tensor with elements from 0 to 17\n",
    "a = torch.arange(18)\n",
    "\n",
    "# it's currently just a [18] tensor\n",
    "# calling a.storage shows that pytorch stores all tensors as 1-dim lists\n",
    "a.storage()\n",
    "\n",
    "# pytorch allows us to \"view\" this 1-dim list with any dimensions, as long as the product equals the number of elements\n",
    "print(a.view(2, 9))\n",
    "print(a.view(2, 3, 3))\n",
    "\n",
    "# pytorch can also infer a dim based on the others dims by using -1\n",
    "print(a.view(-1, 9))"
   ]
  },
  {
   "cell_type": "code",
   "execution_count": 475,
   "id": "2a6030ab-2d86-4959-98bc-dd5b02cbb0e4",
   "metadata": {},
   "outputs": [
    {
     "ename": "RuntimeError",
     "evalue": "shape '[32, 6]' is invalid for input of size 1368876",
     "output_type": "error",
     "traceback": [
      "\u001b[1;31m---------------------------------------------------------------------------\u001b[0m",
      "\u001b[1;31mRuntimeError\u001b[0m                              Traceback (most recent call last)",
      "Cell \u001b[1;32mIn[475], line 1\u001b[0m\n\u001b[1;32m----> 1\u001b[0m \u001b[43memb\u001b[49m\u001b[38;5;241;43m.\u001b[39;49m\u001b[43mview\u001b[49m\u001b[43m(\u001b[49m\u001b[38;5;241;43m32\u001b[39;49m\u001b[43m,\u001b[49m\u001b[43m \u001b[49m\u001b[38;5;241;43m6\u001b[39;49m\u001b[43m)\u001b[49m \u001b[38;5;241m==\u001b[39m torch\u001b[38;5;241m.\u001b[39mcat(torch\u001b[38;5;241m.\u001b[39munbind(emb, \u001b[38;5;241m1\u001b[39m), \u001b[38;5;241m1\u001b[39m)\n",
      "\u001b[1;31mRuntimeError\u001b[0m: shape '[32, 6]' is invalid for input of size 1368876"
     ]
    }
   ],
   "source": [
    "emb.view(32, 6) == torch.cat(torch.unbind(emb, 1), 1)"
   ]
  },
  {
   "cell_type": "code",
   "execution_count": 476,
   "id": "c3d39876-5125-41f7-9f65-0cd3bb31762b",
   "metadata": {},
   "outputs": [
    {
     "data": {
      "text/plain": [
       "torch.Size([228146, 100])"
      ]
     },
     "execution_count": 476,
     "metadata": {},
     "output_type": "execute_result"
    }
   ],
   "source": [
    "# we can multiply now!!!\n",
    "h = torch.tanh(emb.view(-1, 6) @ W1 + b1)\n",
    "h.shape"
   ]
  },
  {
   "cell_type": "code",
   "execution_count": 477,
   "id": "13c6e895-da38-4a16-9ad1-7dbcba530064",
   "metadata": {},
   "outputs": [],
   "source": [
    "# 100 neurons in last layer\n",
    "# 27 outputs (1 for each char)\n",
    "W2 = torch.randn((100, 27))\n",
    "b2 = torch.randn(27)"
   ]
  },
  {
   "cell_type": "code",
   "execution_count": 478,
   "id": "131abfec-5f2f-4faf-803b-ccc2ca934c4a",
   "metadata": {},
   "outputs": [],
   "source": [
    "logits = h @ W2 + b2"
   ]
  },
  {
   "cell_type": "code",
   "execution_count": 479,
   "id": "82cdfd07-96ea-443f-9331-0d79d8b4eb1c",
   "metadata": {},
   "outputs": [
    {
     "data": {
      "text/plain": [
       "torch.Size([228146, 27])"
      ]
     },
     "execution_count": 479,
     "metadata": {},
     "output_type": "execute_result"
    }
   ],
   "source": [
    "logits.shape"
   ]
  },
  {
   "cell_type": "code",
   "execution_count": 480,
   "id": "7c31543f-6e1d-449b-889b-0683531217ae",
   "metadata": {},
   "outputs": [],
   "source": [
    "counts = logits.exp()"
   ]
  },
  {
   "cell_type": "code",
   "execution_count": 481,
   "id": "c860daef-cd1b-4355-b65a-ab138ed06560",
   "metadata": {},
   "outputs": [],
   "source": [
    "probs = counts / counts.sum(1, keepdim=True)"
   ]
  },
  {
   "cell_type": "code",
   "execution_count": 482,
   "id": "9bca3231-30db-4451-9b7f-f3d8232cd74f",
   "metadata": {},
   "outputs": [
    {
     "data": {
      "text/plain": [
       "tensor([1.3445e-08, 6.7046e-10, 2.9847e-13,  ..., 8.4717e-07, 5.1055e-06,\n",
       "        4.4023e-12])"
      ]
     },
     "execution_count": 482,
     "metadata": {},
     "output_type": "execute_result"
    }
   ],
   "source": [
    "# now pluck out the row in prob corresponding to the elements in Y\n",
    "probs[torch.arange(X.shape[0]), Y]"
   ]
  },
  {
   "cell_type": "code",
   "execution_count": 483,
   "id": "52528618-686b-4bbd-ba7e-07cb19275176",
   "metadata": {},
   "outputs": [],
   "source": [
    "# get NLL\n",
    "loss = -probs[torch.arange(probs.shape[0]), Y].log().mean()"
   ]
  },
  {
   "cell_type": "code",
   "execution_count": 484,
   "id": "b97deffd-4b90-4d52-bc6e-bc79696cf101",
   "metadata": {},
   "outputs": [
    {
     "data": {
      "text/plain": [
       "tensor(17.9031)"
      ]
     },
     "execution_count": 484,
     "metadata": {},
     "output_type": "execute_result"
    }
   ],
   "source": [
    "emb = C[X]\n",
    "h = torch.tanh(emb.view(-1, 6) @ W1 + b1)\n",
    "logits = h @ W2 + b2\n",
    "counts = logits.exp()\n",
    "probs = counts / counts.sum(1, keepdim=True)\n",
    "loss = -probs[torch.arange(Y.shape[0]), Y].log().mean()\n",
    "loss"
   ]
  },
  {
   "cell_type": "code",
   "execution_count": 485,
   "id": "a311e260-af2c-44b5-a185-cfa08bd17b08",
   "metadata": {},
   "outputs": [
    {
     "data": {
      "text/plain": [
       "tensor(17.9031)"
      ]
     },
     "execution_count": 485,
     "metadata": {},
     "output_type": "execute_result"
    }
   ],
   "source": [
    "# cross entropy calculates the loss from the logits much more efficiently!\n",
    "F.cross_entropy(logits, Y)"
   ]
  },
  {
   "cell_type": "code",
   "execution_count": 486,
   "id": "6419f98d-0c21-4fec-bd79-e3a64bd861d2",
   "metadata": {},
   "outputs": [
    {
     "data": {
      "text/plain": [
       "tensor([True, True, True, True])"
      ]
     },
     "execution_count": 486,
     "metadata": {},
     "output_type": "execute_result"
    }
   ],
   "source": [
    "# cross_entropy is better because\n",
    "\n",
    "# 1. it uses less memory and more efficient calculations (something about fused kernels)\n",
    "\n",
    "# 2. do math better (uses analytical derivatives for backward pass, etc.)\n",
    "\n",
    "# 3. it is able to handle very positive numbers\n",
    "\n",
    "logits = torch.tensor([-5, -3, 0, 100])\n",
    "counts = logits.exp()\n",
    "# this produces an inf when we evaluate exp(100)\n",
    "# but very negative numbers are fine, since exp(-inf) just goes to 0, which isn't a problem\n",
    "logits = torch.tensor([-5, -3, 0, -100])\n",
    "counts = logits.exp()\n",
    "\n",
    "# note that if we offset logits by some constant x, probs will remain the same\n",
    "# this is because when we do logits.exp(), all the elements have been multiplied by exp(x)\n",
    "# so when we normalize them nothing changes\n",
    "\n",
    "logits1 = torch.tensor([-5, -3, 0, -100])\n",
    "counts1 = logits.exp()\n",
    "probs1 = counts1 / counts1.sum(0)\n",
    "logits2 = torch.tensor([-5, -3, 0, -100]) + 20\n",
    "counts2 = logits.exp()\n",
    "probs2 = counts2 / counts2.sum(0)\n",
    "\n",
    "probs1 == probs2 # produces True\n",
    "\n",
    "# to solve the problem, pytorch internally uses this and offsets logits so that the greatest element is 0"
   ]
  },
  {
   "cell_type": "code",
   "execution_count": 487,
   "id": "593ba020-a7d8-4112-9df2-f4f124e927ef",
   "metadata": {},
   "outputs": [],
   "source": [
    "# ----------------- COMBINING THE CODE WE JUST WROTE ----------------------"
   ]
  },
  {
   "cell_type": "code",
   "execution_count": 488,
   "id": "440ac092-bf37-4c10-93f0-37ef28d3c6fc",
   "metadata": {},
   "outputs": [],
   "source": [
    "# training split, dev/validation split, test split\n",
    "# 80%, 10%, 10%\n",
    "# train parameters (weights & biases), train hyperparameters (things we get to choose, such as size of embeddings), evaluation"
   ]
  },
  {
   "cell_type": "code",
   "execution_count": 489,
   "id": "397d0abb-2688-4547-8154-3b7392cc08b7",
   "metadata": {},
   "outputs": [
    {
     "name": "stdout",
     "output_type": "stream",
     "text": [
      "torch.Size([182625, 3]) torch.Size([182625])\n",
      "torch.Size([22655, 3]) torch.Size([22655])\n",
      "torch.Size([22866, 3]) torch.Size([22866])\n"
     ]
    }
   ],
   "source": [
    "# build dataset\n",
    "\n",
    "def build_dataset(words):\n",
    "    block_size = 3 # context length; how many chars do we take as input when predicting the next char?\n",
    "    X, Y = [], []\n",
    "    for w in words:\n",
    "    \n",
    "        # print(w)\n",
    "        context = [0 for i in range(block_size)]\n",
    "        for ch in w + '.':\n",
    "            ix = stoi[ch]\n",
    "            X.append(context)\n",
    "            Y.append(ix)\n",
    "            # print(''.join(itos[i] for i in context), '--->', itos[ix])\n",
    "            context = context[1:] + [ix] # sliding window of size 3 along the word\n",
    "    \n",
    "    X = torch.tensor(X)\n",
    "    Y = torch.tensor(Y)\n",
    "    print(X.shape, Y.shape)\n",
    "    return X, Y\n",
    "\n",
    "import random\n",
    "random.seed(42)\n",
    "random.shuffle(words)\n",
    "n1 = int(0.8 * len(words)) # end of training split\n",
    "n2 = int(0.9 * len(words)) # end of dev split\n",
    "\n",
    "Xtr, Ytr = build_dataset(words[:n1])\n",
    "Xdev, Ydev = build_dataset(words[n1:n2])\n",
    "Xte, Yte = build_dataset(words[n2:])"
   ]
  },
  {
   "cell_type": "code",
   "execution_count": 490,
   "id": "2322f0d8-92ee-4e54-b339-42879303ee0a",
   "metadata": {},
   "outputs": [
    {
     "data": {
      "text/plain": [
       "(torch.Size([182625, 3]), torch.Size([182625]))"
      ]
     },
     "execution_count": 490,
     "metadata": {},
     "output_type": "execute_result"
    }
   ],
   "source": [
    "Xtr.shape, Ytr.shape"
   ]
  },
  {
   "cell_type": "code",
   "execution_count": 491,
   "id": "1df48371-f90a-46a3-8386-489a70f3342f",
   "metadata": {},
   "outputs": [],
   "source": [
    "# initializing NN layers and parameters with random values\n",
    "g = torch.Generator().manual_seed(2147483647)\n",
    "C = torch.randn((27, 10), generator=g)\n",
    "W1 = torch.randn((30, 200), generator=g)\n",
    "b1 = torch.randn(200, generator=g)\n",
    "W2 = torch.randn((200, 27), generator=g)\n",
    "b2 = torch.randn(27, generator=g)\n",
    "parameters = [C, W1, b1, W2, b2]"
   ]
  },
  {
   "cell_type": "code",
   "execution_count": 492,
   "id": "66eee04f-b1c6-49aa-ac27-5a2a1c368d5c",
   "metadata": {},
   "outputs": [
    {
     "data": {
      "text/plain": [
       "11897"
      ]
     },
     "execution_count": 492,
     "metadata": {},
     "output_type": "execute_result"
    }
   ],
   "source": [
    "sum(p.nelement() for p in parameters) # total number of params"
   ]
  },
  {
   "cell_type": "code",
   "execution_count": 493,
   "id": "4f5947e6-b410-4630-911d-ec9173648e6b",
   "metadata": {},
   "outputs": [],
   "source": [
    "for p in parameters:\n",
    "    p.requires_grad = True"
   ]
  },
  {
   "cell_type": "code",
   "execution_count": 494,
   "id": "f3fd69e2-a706-4c22-ba05-555ebb5ce57a",
   "metadata": {},
   "outputs": [],
   "source": [
    "# optimizing learning rate\n",
    "\n",
    "# we can basically try a bunch of different learning rates and see how the loss is impacted\n",
    "lre = torch.linspace(-3, 0, 1000)\n",
    "lrs = 10 ** lre\n",
    "# this creates a linearly spaced tensor with numbers from 10**-3 to 10**0 (0.001 to 1)"
   ]
  },
  {
   "cell_type": "code",
   "execution_count": 495,
   "id": "017c03a8-19fa-4f09-9129-61577806d59b",
   "metadata": {},
   "outputs": [],
   "source": [
    "lri = []\n",
    "lossi = []\n",
    "stepi = []"
   ]
  },
  {
   "cell_type": "code",
   "execution_count": 496,
   "id": "9c3f09e4-ca95-4cc8-8c0b-159ea575c551",
   "metadata": {},
   "outputs": [
    {
     "ename": "KeyboardInterrupt",
     "evalue": "",
     "output_type": "error",
     "traceback": [
      "\u001b[1;31m---------------------------------------------------------------------------\u001b[0m",
      "\u001b[1;31mKeyboardInterrupt\u001b[0m                         Traceback (most recent call last)",
      "Cell \u001b[1;32mIn[496], line 15\u001b[0m\n\u001b[0;32m     13\u001b[0m \u001b[38;5;28;01mfor\u001b[39;00m p \u001b[38;5;129;01min\u001b[39;00m parameters:\n\u001b[0;32m     14\u001b[0m     p\u001b[38;5;241m.\u001b[39mgrad \u001b[38;5;241m=\u001b[39m \u001b[38;5;28;01mNone\u001b[39;00m\n\u001b[1;32m---> 15\u001b[0m \u001b[43mloss\u001b[49m\u001b[38;5;241;43m.\u001b[39;49m\u001b[43mbackward\u001b[49m\u001b[43m(\u001b[49m\u001b[43m)\u001b[49m\n\u001b[0;32m     17\u001b[0m \u001b[38;5;66;03m# update\u001b[39;00m\n\u001b[0;32m     18\u001b[0m \u001b[38;5;66;03m# lr = lrs[i]\u001b[39;00m\n\u001b[0;32m     19\u001b[0m lr \u001b[38;5;241m=\u001b[39m \u001b[38;5;241m0.1\u001b[39m \u001b[38;5;28;01mif\u001b[39;00m i \u001b[38;5;241m<\u001b[39m \u001b[38;5;241m100000\u001b[39m \u001b[38;5;28;01melse\u001b[39;00m \u001b[38;5;241m0.01\u001b[39m \u001b[38;5;66;03m# for the last few steps, we can use a decay learning rate that is much smaller for fine-tuning\u001b[39;00m\n",
      "File \u001b[1;32m~\\AppData\\Local\\Programs\\Python\\Python312\\Lib\\site-packages\\torch\\_tensor.py:521\u001b[0m, in \u001b[0;36mTensor.backward\u001b[1;34m(self, gradient, retain_graph, create_graph, inputs)\u001b[0m\n\u001b[0;32m    511\u001b[0m \u001b[38;5;28;01mif\u001b[39;00m has_torch_function_unary(\u001b[38;5;28mself\u001b[39m):\n\u001b[0;32m    512\u001b[0m     \u001b[38;5;28;01mreturn\u001b[39;00m handle_torch_function(\n\u001b[0;32m    513\u001b[0m         Tensor\u001b[38;5;241m.\u001b[39mbackward,\n\u001b[0;32m    514\u001b[0m         (\u001b[38;5;28mself\u001b[39m,),\n\u001b[1;32m   (...)\u001b[0m\n\u001b[0;32m    519\u001b[0m         inputs\u001b[38;5;241m=\u001b[39minputs,\n\u001b[0;32m    520\u001b[0m     )\n\u001b[1;32m--> 521\u001b[0m \u001b[43mtorch\u001b[49m\u001b[38;5;241;43m.\u001b[39;49m\u001b[43mautograd\u001b[49m\u001b[38;5;241;43m.\u001b[39;49m\u001b[43mbackward\u001b[49m\u001b[43m(\u001b[49m\n\u001b[0;32m    522\u001b[0m \u001b[43m    \u001b[49m\u001b[38;5;28;43mself\u001b[39;49m\u001b[43m,\u001b[49m\u001b[43m \u001b[49m\u001b[43mgradient\u001b[49m\u001b[43m,\u001b[49m\u001b[43m \u001b[49m\u001b[43mretain_graph\u001b[49m\u001b[43m,\u001b[49m\u001b[43m \u001b[49m\u001b[43mcreate_graph\u001b[49m\u001b[43m,\u001b[49m\u001b[43m \u001b[49m\u001b[43minputs\u001b[49m\u001b[38;5;241;43m=\u001b[39;49m\u001b[43minputs\u001b[49m\n\u001b[0;32m    523\u001b[0m \u001b[43m\u001b[49m\u001b[43m)\u001b[49m\n",
      "File \u001b[1;32m~\\AppData\\Local\\Programs\\Python\\Python312\\Lib\\site-packages\\torch\\autograd\\__init__.py:289\u001b[0m, in \u001b[0;36mbackward\u001b[1;34m(tensors, grad_tensors, retain_graph, create_graph, grad_variables, inputs)\u001b[0m\n\u001b[0;32m    284\u001b[0m     retain_graph \u001b[38;5;241m=\u001b[39m create_graph\n\u001b[0;32m    286\u001b[0m \u001b[38;5;66;03m# The reason we repeat the same comment below is that\u001b[39;00m\n\u001b[0;32m    287\u001b[0m \u001b[38;5;66;03m# some Python versions print out the first line of a multi-line function\u001b[39;00m\n\u001b[0;32m    288\u001b[0m \u001b[38;5;66;03m# calls in the traceback and some print out the last line\u001b[39;00m\n\u001b[1;32m--> 289\u001b[0m \u001b[43m_engine_run_backward\u001b[49m\u001b[43m(\u001b[49m\n\u001b[0;32m    290\u001b[0m \u001b[43m    \u001b[49m\u001b[43mtensors\u001b[49m\u001b[43m,\u001b[49m\n\u001b[0;32m    291\u001b[0m \u001b[43m    \u001b[49m\u001b[43mgrad_tensors_\u001b[49m\u001b[43m,\u001b[49m\n\u001b[0;32m    292\u001b[0m \u001b[43m    \u001b[49m\u001b[43mretain_graph\u001b[49m\u001b[43m,\u001b[49m\n\u001b[0;32m    293\u001b[0m \u001b[43m    \u001b[49m\u001b[43mcreate_graph\u001b[49m\u001b[43m,\u001b[49m\n\u001b[0;32m    294\u001b[0m \u001b[43m    \u001b[49m\u001b[43minputs\u001b[49m\u001b[43m,\u001b[49m\n\u001b[0;32m    295\u001b[0m \u001b[43m    \u001b[49m\u001b[43mallow_unreachable\u001b[49m\u001b[38;5;241;43m=\u001b[39;49m\u001b[38;5;28;43;01mTrue\u001b[39;49;00m\u001b[43m,\u001b[49m\n\u001b[0;32m    296\u001b[0m \u001b[43m    \u001b[49m\u001b[43maccumulate_grad\u001b[49m\u001b[38;5;241;43m=\u001b[39;49m\u001b[38;5;28;43;01mTrue\u001b[39;49;00m\u001b[43m,\u001b[49m\n\u001b[0;32m    297\u001b[0m \u001b[43m\u001b[49m\u001b[43m)\u001b[49m\n",
      "File \u001b[1;32m~\\AppData\\Local\\Programs\\Python\\Python312\\Lib\\site-packages\\torch\\autograd\\graph.py:769\u001b[0m, in \u001b[0;36m_engine_run_backward\u001b[1;34m(t_outputs, *args, **kwargs)\u001b[0m\n\u001b[0;32m    767\u001b[0m     unregister_hooks \u001b[38;5;241m=\u001b[39m _register_logging_hooks_on_whole_graph(t_outputs)\n\u001b[0;32m    768\u001b[0m \u001b[38;5;28;01mtry\u001b[39;00m:\n\u001b[1;32m--> 769\u001b[0m     \u001b[38;5;28;01mreturn\u001b[39;00m \u001b[43mVariable\u001b[49m\u001b[38;5;241;43m.\u001b[39;49m\u001b[43m_execution_engine\u001b[49m\u001b[38;5;241;43m.\u001b[39;49m\u001b[43mrun_backward\u001b[49m\u001b[43m(\u001b[49m\u001b[43m  \u001b[49m\u001b[38;5;66;43;03m# Calls into the C++ engine to run the backward pass\u001b[39;49;00m\n\u001b[0;32m    770\u001b[0m \u001b[43m        \u001b[49m\u001b[43mt_outputs\u001b[49m\u001b[43m,\u001b[49m\u001b[43m \u001b[49m\u001b[38;5;241;43m*\u001b[39;49m\u001b[43margs\u001b[49m\u001b[43m,\u001b[49m\u001b[43m \u001b[49m\u001b[38;5;241;43m*\u001b[39;49m\u001b[38;5;241;43m*\u001b[39;49m\u001b[43mkwargs\u001b[49m\n\u001b[0;32m    771\u001b[0m \u001b[43m    \u001b[49m\u001b[43m)\u001b[49m  \u001b[38;5;66;03m# Calls into the C++ engine to run the backward pass\u001b[39;00m\n\u001b[0;32m    772\u001b[0m \u001b[38;5;28;01mfinally\u001b[39;00m:\n\u001b[0;32m    773\u001b[0m     \u001b[38;5;28;01mif\u001b[39;00m attach_logging_hooks:\n",
      "\u001b[1;31mKeyboardInterrupt\u001b[0m: "
     ]
    }
   ],
   "source": [
    "for i in range(300000):\n",
    "\n",
    "    # construct random minibatch\n",
    "    ix = torch.randint(0, Xtr.shape[0], (32,))\n",
    "\n",
    "    # forward pass\n",
    "    emb = C[Xtr[ix]] # (32, 3, 2)\n",
    "    h = torch.tanh(emb.view(-1, 30) @ W1 + b1)\n",
    "    logits = h @ W2 + b2 # (32, 27)\n",
    "    loss = F.cross_entropy(logits, Ytr[ix])\n",
    "    # print(loss.item())\n",
    "    \n",
    "    # backward pass\n",
    "    for p in parameters:\n",
    "        p.grad = None\n",
    "    loss.backward()\n",
    "    \n",
    "    # update\n",
    "    # lr = lrs[i]\n",
    "    if i < 100000:\n",
    "        lr = 0.1\n",
    "    elif i < 200000:\n",
    "        lr = 0.01\n",
    "    else\n",
    "        lr = 0.001\n",
    "    # lr = 0.1 if i < 100000 else 0.01 # for the last few steps, we can use a decay learning rate that is much smaller for fine-tuning\n",
    "    for p in parameters:\n",
    "        p.data += -lr * p.grad\n",
    "\n",
    "    # track learning rate stats\n",
    "    # lri.append(lre[i])\n",
    "    stepi.append(i)\n",
    "    lossi.append(loss.log10().item())"
   ]
  },
  {
   "cell_type": "code",
   "execution_count": null,
   "id": "56f07de8-620b-44b9-b7a6-5f8ce081c6be",
   "metadata": {},
   "outputs": [],
   "source": [
    "plt.plot(stepi, lossi)"
   ]
  },
  {
   "cell_type": "code",
   "execution_count": null,
   "id": "f4f3ce62-dfec-403b-86e2-f42ea84ab27a",
   "metadata": {},
   "outputs": [],
   "source": [
    "emb = C[Xtr] # (32, 3, 2)\n",
    "h = torch.tanh(emb.view(-1, 30) @ W1 + b1) # (32, 100)\n",
    "logits = h @ W2 + b2 # (32, 27)\n",
    "loss = F.cross_entropy(logits, Ytr)\n",
    "loss"
   ]
  },
  {
   "cell_type": "code",
   "execution_count": null,
   "id": "1eff036e-6016-4d82-884f-fe0706419aba",
   "metadata": {},
   "outputs": [],
   "source": [
    "emb = C[Xdev] # (32, 3, 2)\n",
    "h = torch.tanh(emb.view(-1, 30) @ W1 + b1) # (32, 100)\n",
    "logits = h @ W2 + b2 # (32, 27)\n",
    "loss = F.cross_entropy(logits, Ydev)\n",
    "loss"
   ]
  },
  {
   "cell_type": "code",
   "execution_count": null,
   "id": "4ae64be1-e4d3-488c-8785-9eecf39a9b89",
   "metadata": {},
   "outputs": [],
   "source": [
    "# loss for training set and dev set are very similar, so we're not overfitting\n",
    "# we are actually underfitting, so we can increase the number of parameters in the NN\n",
    "# easiest way is to increase the number of neurons in the hidden layer"
   ]
  },
  {
   "cell_type": "code",
   "execution_count": 458,
   "id": "47c52bb9-ccfd-422a-b833-205f9ec92130",
   "metadata": {},
   "outputs": [
    {
     "name": "stdout",
     "output_type": "stream",
     "text": [
      "camrienor.\n",
      "slyn.\n",
      "emon.\n",
      "arrianiel.\n",
      "deck.\n",
      "ali.\n",
      "ustia.\n",
      "alboxal.\n",
      "jara.\n",
      "caylon.\n",
      "delynn.\n",
      "neyd.\n",
      "ett.\n",
      "zuhelda.\n",
      "aatizeracelynn.\n",
      "torevonnial.\n",
      "ann.\n",
      "kaa.\n",
      "juon.\n",
      "issietten.\n"
     ]
    }
   ],
   "source": [
    "g = torch.Generator().manual_seed(2147483647 + 1)\n",
    "\n",
    "for _ in range(20):\n",
    "    out = []\n",
    "    context = [0 for _ in range(block_size)]\n",
    "    while True:\n",
    "        emb = C[torch.tensor([context])]\n",
    "        h = torch.tanh(emb.view(1, -1) @ W1 + b1)\n",
    "        logits = h @ W2 + b2\n",
    "        probs = F.softmax(logits, dim=1)\n",
    "        ix = torch.multinomial(probs, num_samples=1, generator=g).item()\n",
    "        context = context[1:] + [ix]\n",
    "        out.append(ix)\n",
    "        if ix == 0:\n",
    "            break\n",
    "\n",
    "    print(''.join(itos[i] for i in out))"
   ]
  },
  {
   "cell_type": "code",
   "execution_count": null,
   "id": "4cb0bbd3-e6b4-4fc3-8640-b751f083852e",
   "metadata": {},
   "outputs": [],
   "source": [
    "# visualization of 2D embeddings\n",
    "\n",
    "plt.figure(figsize=(8,8))\n",
    "plt.scatter(C[:,0].data, C[:,1].data, s=200)\n",
    "for i in range(C.shape[0]):\n",
    "    plt.text(C[i,0].item(), C[i,1].item(), itos[i], ha=\"center\", va=\"center\", color='white')\n",
    "plt.grid('minor')"
   ]
  },
  {
   "cell_type": "code",
   "execution_count": null,
   "id": "aaf01c0c-7a01-4d6a-a6c5-0a99e391c97e",
   "metadata": {
    "scrolled": true
   },
   "outputs": [],
   "source": [
    "plt.plot(lri, lossi)\n",
    "# this graph has a min around -1.0, so 10**-1 == 0.1 is a fairly good learning rate"
   ]
  }
 ],
 "metadata": {
  "kernelspec": {
   "display_name": "Python 3 (ipykernel)",
   "language": "python",
   "name": "python3"
  },
  "language_info": {
   "codemirror_mode": {
    "name": "ipython",
    "version": 3
   },
   "file_extension": ".py",
   "mimetype": "text/x-python",
   "name": "python",
   "nbconvert_exporter": "python",
   "pygments_lexer": "ipython3",
   "version": "3.12.5"
  }
 },
 "nbformat": 4,
 "nbformat_minor": 5
}
